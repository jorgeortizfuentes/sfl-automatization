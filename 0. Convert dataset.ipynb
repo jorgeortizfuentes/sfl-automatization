{
 "cells": [
  {
   "cell_type": "code",
   "execution_count": 18,
   "metadata": {},
   "outputs": [],
   "source": [
    "import pandas as pd\n",
    "import argilla as rg\n",
    "\n",
    "data_file = \"data/data_gn.pkl\"\n",
    "\n",
    "dataset = pd.read_pickle(data_file)\n",
    "\n"
   ]
  },
  {
   "cell_type": "code",
   "execution_count": 19,
   "metadata": {},
   "outputs": [],
   "source": [
    "def to_conll_eval_format(data):\n",
    "    output = []\n",
    "    for d in data:\n",
    "        sentence_tags = []\n",
    "        for token in d['tokens']:\n",
    "            sentence_tags.append(token['tag'])\n",
    "        output.append(sentence_tags)\n",
    "    return output\n",
    "\n",
    "tokens = dataset[\"tokens\"].tolist()\n",
    "conll = to_conll_eval_format(dataset[\"metrics\"].tolist())\n",
    "\n"
   ]
  },
  {
   "cell_type": "code",
   "execution_count": 20,
   "metadata": {},
   "outputs": [
    {
     "data": {
      "text/plain": [
       "{'B-NG', 'I-NG', None, 'O'}"
      ]
     },
     "execution_count": 20,
     "metadata": {},
     "output_type": "execute_result"
    }
   ],
   "source": [
    "conll_total = [c for s in conll for c in s]\n",
    "set(conll_total)"
   ]
  },
  {
   "cell_type": "code",
   "execution_count": 24,
   "metadata": {},
   "outputs": [],
   "source": [
    "import pandas as pd\n",
    "data = pd.DataFrame({\"tokens\": tokens, \"ng_tags\": conll})\n",
    "data = data.reset_index()\n",
    "# Rename index to id\n",
    "data = data.rename(columns={\"index\": \"id\"})\n",
    "#data = data.to_dict('records')\n"
   ]
  },
  {
   "cell_type": "code",
   "execution_count": 32,
   "metadata": {},
   "outputs": [
    {
     "data": {
      "text/html": [
       "<div>\n",
       "<style scoped>\n",
       "    .dataframe tbody tr th:only-of-type {\n",
       "        vertical-align: middle;\n",
       "    }\n",
       "\n",
       "    .dataframe tbody tr th {\n",
       "        vertical-align: top;\n",
       "    }\n",
       "\n",
       "    .dataframe thead th {\n",
       "        text-align: right;\n",
       "    }\n",
       "</style>\n",
       "<table border=\"1\" class=\"dataframe\">\n",
       "  <thead>\n",
       "    <tr style=\"text-align: right;\">\n",
       "      <th></th>\n",
       "      <th>id</th>\n",
       "      <th>tokens_list</th>\n",
       "      <th>ng_tags</th>\n",
       "    </tr>\n",
       "  </thead>\n",
       "  <tbody>\n",
       "    <tr>\n",
       "      <th>0</th>\n",
       "      <td>0</td>\n",
       "      <td>[['@lobitachilena', '@camilapfer', 'Delincuent...</td>\n",
       "      <td>['B-NG', 'B-NG', 'B-NG', 'O', 'O', 'B-NG', 'O'...</td>\n",
       "    </tr>\n",
       "    <tr>\n",
       "      <th>1</th>\n",
       "      <td>1</td>\n",
       "      <td>[['La', 'frase', 'de', 'la', 'noche', '\"', 'Er...</td>\n",
       "      <td>['B-NG', 'I-NG', 'I-NG', 'I-NG', 'I-NG', 'O', ...</td>\n",
       "    </tr>\n",
       "    <tr>\n",
       "      <th>2</th>\n",
       "      <td>2</td>\n",
       "      <td>[['Q', 'May', 'tu', 'comentario', ',', 'yo@no'...</td>\n",
       "      <td>['O', 'B-NG', 'B-NG', 'I-NG', 'O', 'O', 'O', '...</td>\n",
       "    </tr>\n",
       "    <tr>\n",
       "      <th>3</th>\n",
       "      <td>3</td>\n",
       "      <td>[['@PDI_Araucania', '@clintjoselint', 'Es', 'u...</td>\n",
       "      <td>['B-NG', 'B-NG', 'O', 'B-NG', 'I-NG', 'I-NG', ...</td>\n",
       "    </tr>\n",
       "    <tr>\n",
       "      <th>4</th>\n",
       "      <td>4</td>\n",
       "      <td>[['@carodream1', 'Hoy', 'ha', 'sido', 'un', 'd...</td>\n",
       "      <td>['B-NG', 'O', 'O', 'O', 'B-NG', 'I-NG', 'I-NG'...</td>\n",
       "    </tr>\n",
       "    <tr>\n",
       "      <th>...</th>\n",
       "      <td>...</td>\n",
       "      <td>...</td>\n",
       "      <td>...</td>\n",
       "    </tr>\n",
       "    <tr>\n",
       "      <th>2608</th>\n",
       "      <td>2608</td>\n",
       "      <td>[['Deberían', 'haber', 'dos', 'twiter', 'uno',...</td>\n",
       "      <td>['O', 'O', 'B-NG', 'I-NG', 'B-NG', 'I-NG', 'I-...</td>\n",
       "    </tr>\n",
       "    <tr>\n",
       "      <th>2609</th>\n",
       "      <td>2609</td>\n",
       "      <td>[['@VeronicG', '_', '_', '@sebastianpinera', '...</td>\n",
       "      <td>['B-NG', 'I-NG', 'I-NG', 'B-NG', 'B-NG', 'O', ...</td>\n",
       "    </tr>\n",
       "    <tr>\n",
       "      <th>2610</th>\n",
       "      <td>2610</td>\n",
       "      <td>[['@azetaene', 'Y', 'sigue', 'pegado', 'en', '...</td>\n",
       "      <td>['B-NG', 'O', 'O', 'O', 'O', 'B-NG', 'I-NG', '...</td>\n",
       "    </tr>\n",
       "    <tr>\n",
       "      <th>2611</th>\n",
       "      <td>2611</td>\n",
       "      <td>[['@ignaciobriones', '_', 'Briones', 'deja', '...</td>\n",
       "      <td>['B-NG', 'I-NG', 'B-NG', 'O', 'O', 'O', 'O', '...</td>\n",
       "    </tr>\n",
       "    <tr>\n",
       "      <th>2612</th>\n",
       "      <td>2612</td>\n",
       "      <td>[['Mis', 'respetos', 'para', 'una', 'gran', 'd...</td>\n",
       "      <td>['B-NG', 'I-NG', 'O', 'B-NG', 'I-NG', 'I-NG', ...</td>\n",
       "    </tr>\n",
       "  </tbody>\n",
       "</table>\n",
       "<p>2613 rows × 3 columns</p>\n",
       "</div>"
      ],
      "text/plain": [
       "        id                                        tokens_list  \\\n",
       "0        0  [['@lobitachilena', '@camilapfer', 'Delincuent...   \n",
       "1        1  [['La', 'frase', 'de', 'la', 'noche', '\"', 'Er...   \n",
       "2        2  [['Q', 'May', 'tu', 'comentario', ',', 'yo@no'...   \n",
       "3        3  [['@PDI_Araucania', '@clintjoselint', 'Es', 'u...   \n",
       "4        4  [['@carodream1', 'Hoy', 'ha', 'sido', 'un', 'd...   \n",
       "...    ...                                                ...   \n",
       "2608  2608  [['Deberían', 'haber', 'dos', 'twiter', 'uno',...   \n",
       "2609  2609  [['@VeronicG', '_', '_', '@sebastianpinera', '...   \n",
       "2610  2610  [['@azetaene', 'Y', 'sigue', 'pegado', 'en', '...   \n",
       "2611  2611  [['@ignaciobriones', '_', 'Briones', 'deja', '...   \n",
       "2612  2612  [['Mis', 'respetos', 'para', 'una', 'gran', 'd...   \n",
       "\n",
       "                                                ng_tags  \n",
       "0     ['B-NG', 'B-NG', 'B-NG', 'O', 'O', 'B-NG', 'O'...  \n",
       "1     ['B-NG', 'I-NG', 'I-NG', 'I-NG', 'I-NG', 'O', ...  \n",
       "2     ['O', 'B-NG', 'B-NG', 'I-NG', 'O', 'O', 'O', '...  \n",
       "3     ['B-NG', 'B-NG', 'O', 'B-NG', 'I-NG', 'I-NG', ...  \n",
       "4     ['B-NG', 'O', 'O', 'O', 'B-NG', 'I-NG', 'I-NG'...  \n",
       "...                                                 ...  \n",
       "2608  ['O', 'O', 'B-NG', 'I-NG', 'B-NG', 'I-NG', 'I-...  \n",
       "2609  ['B-NG', 'I-NG', 'I-NG', 'B-NG', 'B-NG', 'O', ...  \n",
       "2610  ['B-NG', 'O', 'O', 'O', 'O', 'B-NG', 'I-NG', '...  \n",
       "2611  ['B-NG', 'I-NG', 'B-NG', 'O', 'O', 'O', 'O', '...  \n",
       "2612  ['B-NG', 'I-NG', 'O', 'B-NG', 'I-NG', 'I-NG', ...  \n",
       "\n",
       "[2613 rows x 3 columns]"
      ]
     },
     "execution_count": 32,
     "metadata": {},
     "output_type": "execute_result"
    }
   ],
   "source": [
    "data"
   ]
  },
  {
   "cell_type": "code",
   "execution_count": 29,
   "metadata": {},
   "outputs": [
    {
     "data": {
      "text/html": [
       "<pre style=\"white-space:pre;overflow-x:auto;line-height:normal;font-family:Menlo,'DejaVu Sans Mono',consolas,'Courier New',monospace\"><span style=\"color: #800000; text-decoration-color: #800000\">╭─────────────────────────────── </span><span style=\"color: #800000; text-decoration-color: #800000; font-weight: bold\">Traceback </span><span style=\"color: #bf7f7f; text-decoration-color: #bf7f7f; font-weight: bold\">(most recent call last)</span><span style=\"color: #800000; text-decoration-color: #800000\"> ────────────────────────────────╮</span>\n",
       "<span style=\"color: #800000; text-decoration-color: #800000\">│</span> <span style=\"color: #bfbf7f; text-decoration-color: #bfbf7f\">/tmp/ipykernel_3719785/</span><span style=\"color: #808000; text-decoration-color: #808000; font-weight: bold\">3274544608.py</span>:<span style=\"color: #0000ff; text-decoration-color: #0000ff\">7</span> in <span style=\"color: #00ff00; text-decoration-color: #00ff00\">&lt;module&gt;</span>                                               <span style=\"color: #800000; text-decoration-color: #800000\">│</span>\n",
       "<span style=\"color: #800000; text-decoration-color: #800000\">│</span>                                                                                                  <span style=\"color: #800000; text-decoration-color: #800000\">│</span>\n",
       "<span style=\"color: #800000; text-decoration-color: #800000\">│</span> <span style=\"color: #800000; text-decoration-color: #800000; font-style: italic\">[Errno 2] No such file or directory: '/tmp/ipykernel_3719785/3274544608.py'</span>                      <span style=\"color: #800000; text-decoration-color: #800000\">│</span>\n",
       "<span style=\"color: #800000; text-decoration-color: #800000\">│</span>                                                                                                  <span style=\"color: #800000; text-decoration-color: #800000\">│</span>\n",
       "<span style=\"color: #800000; text-decoration-color: #800000\">│</span> <span style=\"color: #bfbf7f; text-decoration-color: #bfbf7f\">/home/jlortiz/data/anaconda3/envs/py310/lib/python3.10/site-packages/datasets/</span><span style=\"color: #808000; text-decoration-color: #808000; font-weight: bold\">arrow_dataset.py</span>:<span style=\"color: #0000ff; text-decoration-color: #0000ff\">8</span> <span style=\"color: #800000; text-decoration-color: #800000\">│</span>\n",
       "<span style=\"color: #800000; text-decoration-color: #800000\">│</span> <span style=\"color: #0000ff; text-decoration-color: #0000ff\">11</span> in <span style=\"color: #00ff00; text-decoration-color: #00ff00\">from_pandas</span>                                                                                <span style=\"color: #800000; text-decoration-color: #800000\">│</span>\n",
       "<span style=\"color: #800000; text-decoration-color: #800000\">│</span>                                                                                                  <span style=\"color: #800000; text-decoration-color: #800000\">│</span>\n",
       "<span style=\"color: #800000; text-decoration-color: #800000\">│</span>   <span style=\"color: #7f7f7f; text-decoration-color: #7f7f7f\"> 808 │   │   </span><span style=\"color: #0000ff; text-decoration-color: #0000ff\">if</span> features <span style=\"color: #ff00ff; text-decoration-color: #ff00ff\">is</span> <span style=\"color: #ff00ff; text-decoration-color: #ff00ff\">not</span> <span style=\"color: #0000ff; text-decoration-color: #0000ff\">None</span>:                                                          <span style=\"color: #800000; text-decoration-color: #800000\">│</span>\n",
       "<span style=\"color: #800000; text-decoration-color: #800000\">│</span>   <span style=\"color: #7f7f7f; text-decoration-color: #7f7f7f\"> 809 │   │   │   # more expensive cast than InMemoryTable.from_pandas(..., schema=features.ar</span>  <span style=\"color: #800000; text-decoration-color: #800000\">│</span>\n",
       "<span style=\"color: #800000; text-decoration-color: #800000\">│</span>   <span style=\"color: #7f7f7f; text-decoration-color: #7f7f7f\"> 810 │   │   │   # needed to support the str to Audio conversion for instance</span>                  <span style=\"color: #800000; text-decoration-color: #800000\">│</span>\n",
       "<span style=\"color: #800000; text-decoration-color: #800000\">│</span> <span style=\"color: #800000; text-decoration-color: #800000\">❱ </span> 811 <span style=\"color: #7f7f7f; text-decoration-color: #7f7f7f\">│   │   │   </span>table = table.cast(features.arrow_schema)                                     <span style=\"color: #800000; text-decoration-color: #800000\">│</span>\n",
       "<span style=\"color: #800000; text-decoration-color: #800000\">│</span>   <span style=\"color: #7f7f7f; text-decoration-color: #7f7f7f\"> 812 │   │   </span><span style=\"color: #0000ff; text-decoration-color: #0000ff\">return</span> <span style=\"color: #00ffff; text-decoration-color: #00ffff\">cls</span>(table, info=info, split=split)                                         <span style=\"color: #800000; text-decoration-color: #800000\">│</span>\n",
       "<span style=\"color: #800000; text-decoration-color: #800000\">│</span>   <span style=\"color: #7f7f7f; text-decoration-color: #7f7f7f\"> 813 │   </span>                                                                                      <span style=\"color: #800000; text-decoration-color: #800000\">│</span>\n",
       "<span style=\"color: #800000; text-decoration-color: #800000\">│</span>   <span style=\"color: #7f7f7f; text-decoration-color: #7f7f7f\"> 814 │   </span><span style=\"color: #ff00ff; text-decoration-color: #ff00ff; font-weight: bold\">@classmethod</span>                                                                          <span style=\"color: #800000; text-decoration-color: #800000\">│</span>\n",
       "<span style=\"color: #800000; text-decoration-color: #800000\">│</span>                                                                                                  <span style=\"color: #800000; text-decoration-color: #800000\">│</span>\n",
       "<span style=\"color: #800000; text-decoration-color: #800000\">│</span> <span style=\"color: #bfbf7f; text-decoration-color: #bfbf7f\">/home/jlortiz/data/anaconda3/envs/py310/lib/python3.10/site-packages/datasets/</span><span style=\"color: #808000; text-decoration-color: #808000; font-weight: bold\">table.py</span>:<span style=\"color: #0000ff; text-decoration-color: #0000ff\">907</span> in    <span style=\"color: #800000; text-decoration-color: #800000\">│</span>\n",
       "<span style=\"color: #800000; text-decoration-color: #800000\">│</span> <span style=\"color: #00ff00; text-decoration-color: #00ff00\">cast</span>                                                                                             <span style=\"color: #800000; text-decoration-color: #800000\">│</span>\n",
       "<span style=\"color: #800000; text-decoration-color: #800000\">│</span>                                                                                                  <span style=\"color: #800000; text-decoration-color: #800000\">│</span>\n",
       "<span style=\"color: #800000; text-decoration-color: #800000\">│</span>   <span style=\"color: #7f7f7f; text-decoration-color: #7f7f7f\"> 904 </span><span style=\"color: #bfbf7f; text-decoration-color: #bfbf7f\">│   │   </span><span style=\"color: #808000; text-decoration-color: #808000\">Returns:</span>                                                                          <span style=\"color: #800000; text-decoration-color: #800000\">│</span>\n",
       "<span style=\"color: #800000; text-decoration-color: #800000\">│</span>   <span style=\"color: #7f7f7f; text-decoration-color: #7f7f7f\"> 905 </span><span style=\"color: #bfbf7f; text-decoration-color: #bfbf7f\">│   │   │   </span><span style=\"color: #808000; text-decoration-color: #808000\">`datasets.table.Table`</span>                                                        <span style=\"color: #800000; text-decoration-color: #800000\">│</span>\n",
       "<span style=\"color: #800000; text-decoration-color: #800000\">│</span>   <span style=\"color: #7f7f7f; text-decoration-color: #7f7f7f\"> 906 </span><span style=\"color: #bfbf7f; text-decoration-color: #bfbf7f\">│   │   </span><span style=\"color: #808000; text-decoration-color: #808000\">\"\"\"</span>                                                                               <span style=\"color: #800000; text-decoration-color: #800000\">│</span>\n",
       "<span style=\"color: #800000; text-decoration-color: #800000\">│</span> <span style=\"color: #800000; text-decoration-color: #800000\">❱ </span> 907 <span style=\"color: #7f7f7f; text-decoration-color: #7f7f7f\">│   │   </span><span style=\"color: #0000ff; text-decoration-color: #0000ff\">return</span> InMemoryTable(table_cast(<span style=\"color: #00ffff; text-decoration-color: #00ffff\">self</span>.table, *args, **kwargs))                     <span style=\"color: #800000; text-decoration-color: #800000\">│</span>\n",
       "<span style=\"color: #800000; text-decoration-color: #800000\">│</span>   <span style=\"color: #7f7f7f; text-decoration-color: #7f7f7f\"> 908 │   </span>                                                                                      <span style=\"color: #800000; text-decoration-color: #800000\">│</span>\n",
       "<span style=\"color: #800000; text-decoration-color: #800000\">│</span>   <span style=\"color: #7f7f7f; text-decoration-color: #7f7f7f\"> 909 │   </span><span style=\"color: #0000ff; text-decoration-color: #0000ff\">def</span> <span style=\"color: #00ff00; text-decoration-color: #00ff00\">replace_schema_metadata</span>(<span style=\"color: #00ffff; text-decoration-color: #00ffff\">self</span>, *args, **kwargs):                                   <span style=\"color: #800000; text-decoration-color: #800000\">│</span>\n",
       "<span style=\"color: #800000; text-decoration-color: #800000\">│</span>   <span style=\"color: #7f7f7f; text-decoration-color: #7f7f7f\"> 910 │   │   </span><span style=\"color: #808000; text-decoration-color: #808000\">\"\"\"</span>                                                                               <span style=\"color: #800000; text-decoration-color: #800000\">│</span>\n",
       "<span style=\"color: #800000; text-decoration-color: #800000\">│</span>                                                                                                  <span style=\"color: #800000; text-decoration-color: #800000\">│</span>\n",
       "<span style=\"color: #800000; text-decoration-color: #800000\">│</span> <span style=\"color: #bfbf7f; text-decoration-color: #bfbf7f\">/home/jlortiz/data/anaconda3/envs/py310/lib/python3.10/site-packages/datasets/</span><span style=\"color: #808000; text-decoration-color: #808000; font-weight: bold\">table.py</span>:<span style=\"color: #0000ff; text-decoration-color: #0000ff\">2312</span> in   <span style=\"color: #800000; text-decoration-color: #800000\">│</span>\n",
       "<span style=\"color: #800000; text-decoration-color: #800000\">│</span> <span style=\"color: #00ff00; text-decoration-color: #00ff00\">table_cast</span>                                                                                       <span style=\"color: #800000; text-decoration-color: #800000\">│</span>\n",
       "<span style=\"color: #800000; text-decoration-color: #800000\">│</span>                                                                                                  <span style=\"color: #800000; text-decoration-color: #800000\">│</span>\n",
       "<span style=\"color: #800000; text-decoration-color: #800000\">│</span>   <span style=\"color: #7f7f7f; text-decoration-color: #7f7f7f\">2309 </span><span style=\"color: #bfbf7f; text-decoration-color: #bfbf7f\">│   │   </span><span style=\"color: #808000; text-decoration-color: #808000\">table (`pyarrow.Table`): the casted table</span>                                         <span style=\"color: #800000; text-decoration-color: #800000\">│</span>\n",
       "<span style=\"color: #800000; text-decoration-color: #800000\">│</span>   <span style=\"color: #7f7f7f; text-decoration-color: #7f7f7f\">2310 </span><span style=\"color: #bfbf7f; text-decoration-color: #bfbf7f\">│   </span><span style=\"color: #808000; text-decoration-color: #808000\">\"\"\"</span>                                                                                   <span style=\"color: #800000; text-decoration-color: #800000\">│</span>\n",
       "<span style=\"color: #800000; text-decoration-color: #800000\">│</span>   <span style=\"color: #7f7f7f; text-decoration-color: #7f7f7f\">2311 │   </span><span style=\"color: #0000ff; text-decoration-color: #0000ff\">if</span> table.schema != schema:                                                            <span style=\"color: #800000; text-decoration-color: #800000\">│</span>\n",
       "<span style=\"color: #800000; text-decoration-color: #800000\">│</span> <span style=\"color: #800000; text-decoration-color: #800000\">❱ </span>2312 <span style=\"color: #7f7f7f; text-decoration-color: #7f7f7f\">│   │   </span><span style=\"color: #0000ff; text-decoration-color: #0000ff\">return</span> cast_table_to_schema(table, schema)                                        <span style=\"color: #800000; text-decoration-color: #800000\">│</span>\n",
       "<span style=\"color: #800000; text-decoration-color: #800000\">│</span>   <span style=\"color: #7f7f7f; text-decoration-color: #7f7f7f\">2313 │   </span><span style=\"color: #0000ff; text-decoration-color: #0000ff\">elif</span> table.schema.metadata != schema.metadata:                                        <span style=\"color: #800000; text-decoration-color: #800000\">│</span>\n",
       "<span style=\"color: #800000; text-decoration-color: #800000\">│</span>   <span style=\"color: #7f7f7f; text-decoration-color: #7f7f7f\">2314 │   │   </span><span style=\"color: #0000ff; text-decoration-color: #0000ff\">return</span> table.replace_schema_metadata(schema.metadata)                             <span style=\"color: #800000; text-decoration-color: #800000\">│</span>\n",
       "<span style=\"color: #800000; text-decoration-color: #800000\">│</span>   <span style=\"color: #7f7f7f; text-decoration-color: #7f7f7f\">2315 │   </span><span style=\"color: #0000ff; text-decoration-color: #0000ff\">else</span>:                                                                                 <span style=\"color: #800000; text-decoration-color: #800000\">│</span>\n",
       "<span style=\"color: #800000; text-decoration-color: #800000\">│</span>                                                                                                  <span style=\"color: #800000; text-decoration-color: #800000\">│</span>\n",
       "<span style=\"color: #800000; text-decoration-color: #800000\">│</span> <span style=\"color: #bfbf7f; text-decoration-color: #bfbf7f\">/home/jlortiz/data/anaconda3/envs/py310/lib/python3.10/site-packages/datasets/</span><span style=\"color: #808000; text-decoration-color: #808000; font-weight: bold\">table.py</span>:<span style=\"color: #0000ff; text-decoration-color: #0000ff\">2270</span> in   <span style=\"color: #800000; text-decoration-color: #800000\">│</span>\n",
       "<span style=\"color: #800000; text-decoration-color: #800000\">│</span> <span style=\"color: #00ff00; text-decoration-color: #00ff00\">cast_table_to_schema</span>                                                                             <span style=\"color: #800000; text-decoration-color: #800000\">│</span>\n",
       "<span style=\"color: #800000; text-decoration-color: #800000\">│</span>                                                                                                  <span style=\"color: #800000; text-decoration-color: #800000\">│</span>\n",
       "<span style=\"color: #800000; text-decoration-color: #800000\">│</span>   <span style=\"color: #7f7f7f; text-decoration-color: #7f7f7f\">2267 │   </span>                                                                                      <span style=\"color: #800000; text-decoration-color: #800000\">│</span>\n",
       "<span style=\"color: #800000; text-decoration-color: #800000\">│</span>   <span style=\"color: #7f7f7f; text-decoration-color: #7f7f7f\">2268 │   </span>features = Features.from_arrow_schema(schema)                                         <span style=\"color: #800000; text-decoration-color: #800000\">│</span>\n",
       "<span style=\"color: #800000; text-decoration-color: #800000\">│</span>   <span style=\"color: #7f7f7f; text-decoration-color: #7f7f7f\">2269 │   </span><span style=\"color: #0000ff; text-decoration-color: #0000ff\">if</span> <span style=\"color: #00ffff; text-decoration-color: #00ffff\">sorted</span>(table.column_names) != <span style=\"color: #00ffff; text-decoration-color: #00ffff\">sorted</span>(features):                                    <span style=\"color: #800000; text-decoration-color: #800000\">│</span>\n",
       "<span style=\"color: #800000; text-decoration-color: #800000\">│</span> <span style=\"color: #800000; text-decoration-color: #800000\">❱ </span>2270 <span style=\"color: #7f7f7f; text-decoration-color: #7f7f7f\">│   │   </span><span style=\"color: #0000ff; text-decoration-color: #0000ff\">raise</span> <span style=\"color: #00ffff; text-decoration-color: #00ffff\">ValueError</span>(<span style=\"color: #808000; text-decoration-color: #808000\">f\"Couldn't cast\\n{</span>table.schema<span style=\"color: #808000; text-decoration-color: #808000\">}\\nto\\n{</span>features<span style=\"color: #808000; text-decoration-color: #808000\">}\\nbecause column</span>  <span style=\"color: #800000; text-decoration-color: #800000\">│</span>\n",
       "<span style=\"color: #800000; text-decoration-color: #800000\">│</span>   <span style=\"color: #7f7f7f; text-decoration-color: #7f7f7f\">2271 │   </span>arrays = [cast_array_to_feature(table[name], feature) <span style=\"color: #0000ff; text-decoration-color: #0000ff\">for</span> name, feature <span style=\"color: #ff00ff; text-decoration-color: #ff00ff\">in</span> features.  <span style=\"color: #800000; text-decoration-color: #800000\">│</span>\n",
       "<span style=\"color: #800000; text-decoration-color: #800000\">│</span>   <span style=\"color: #7f7f7f; text-decoration-color: #7f7f7f\">2272 │   </span><span style=\"color: #0000ff; text-decoration-color: #0000ff\">return</span> pa.Table.from_arrays(arrays, schema=schema)                                    <span style=\"color: #800000; text-decoration-color: #800000\">│</span>\n",
       "<span style=\"color: #800000; text-decoration-color: #800000\">│</span>   <span style=\"color: #7f7f7f; text-decoration-color: #7f7f7f\">2273 </span>                                                                                          <span style=\"color: #800000; text-decoration-color: #800000\">│</span>\n",
       "<span style=\"color: #800000; text-decoration-color: #800000\">╰──────────────────────────────────────────────────────────────────────────────────────────────────╯</span>\n",
       "<span style=\"color: #ff0000; text-decoration-color: #ff0000; font-weight: bold\">ValueError: </span>Couldn't cast\n",
       "id: int64\n",
       "tokens: list<span style=\"font-weight: bold\">&lt;</span><span style=\"color: #ff00ff; text-decoration-color: #ff00ff; font-weight: bold\">item:</span><span style=\"color: #000000; text-decoration-color: #000000\"> string&gt;</span>\n",
       "<span style=\"color: #000000; text-decoration-color: #000000\">  child </span><span style=\"color: #008080; text-decoration-color: #008080; font-weight: bold\">0</span><span style=\"color: #000000; text-decoration-color: #000000\">, item: string</span>\n",
       "<span style=\"color: #000000; text-decoration-color: #000000\">ng_tags: list&lt;item: string</span><span style=\"font-weight: bold\">&gt;</span>\n",
       "  child <span style=\"color: #008080; text-decoration-color: #008080; font-weight: bold\">0</span>, item: string\n",
       "-- schema metadata --\n",
       "pandas: <span style=\"color: #008000; text-decoration-color: #008000\">'{\"index_columns\": [{\"kind\": \"range\", \"name\": null, \"start\": 0, \"'</span> + <span style=\"color: #008080; text-decoration-color: #008080; font-weight: bold\">601</span>\n",
       "to\n",
       "<span style=\"font-weight: bold\">{</span><span style=\"color: #008000; text-decoration-color: #008000\">'ng_tags'</span>: <span style=\"color: #800080; text-decoration-color: #800080; font-weight: bold\">Sequence</span><span style=\"font-weight: bold\">(</span><span style=\"color: #808000; text-decoration-color: #808000\">feature</span>=<span style=\"color: #800080; text-decoration-color: #800080; font-weight: bold\">ClassLabel</span><span style=\"font-weight: bold\">(</span><span style=\"color: #808000; text-decoration-color: #808000\">names</span>=<span style=\"font-weight: bold\">[</span><span style=\"color: #008000; text-decoration-color: #008000\">'B-NG'</span>, <span style=\"color: #008000; text-decoration-color: #008000\">'I-NG'</span>, <span style=\"color: #008000; text-decoration-color: #008000\">'O'</span><span style=\"font-weight: bold\">]</span>, <span style=\"color: #808000; text-decoration-color: #808000\">id</span>=<span style=\"color: #800080; text-decoration-color: #800080; font-style: italic\">None</span><span style=\"font-weight: bold\">)</span>, <span style=\"color: #808000; text-decoration-color: #808000\">length</span>=<span style=\"color: #008080; text-decoration-color: #008080; font-weight: bold\">-1</span>, <span style=\"color: #808000; text-decoration-color: #808000\">id</span>=<span style=\"color: #800080; text-decoration-color: #800080; font-style: italic\">None</span><span style=\"font-weight: bold\">)}</span>\n",
       "because column names don't match\n",
       "</pre>\n"
      ],
      "text/plain": [
       "\u001b[31m╭─\u001b[0m\u001b[31m──────────────────────────────\u001b[0m\u001b[31m \u001b[0m\u001b[1;31mTraceback \u001b[0m\u001b[1;2;31m(most recent call last)\u001b[0m\u001b[31m \u001b[0m\u001b[31m───────────────────────────────\u001b[0m\u001b[31m─╮\u001b[0m\n",
       "\u001b[31m│\u001b[0m \u001b[2;33m/tmp/ipykernel_3719785/\u001b[0m\u001b[1;33m3274544608.py\u001b[0m:\u001b[94m7\u001b[0m in \u001b[92m<module>\u001b[0m                                               \u001b[31m│\u001b[0m\n",
       "\u001b[31m│\u001b[0m                                                                                                  \u001b[31m│\u001b[0m\n",
       "\u001b[31m│\u001b[0m \u001b[3;31m[Errno 2] No such file or directory: '/tmp/ipykernel_3719785/3274544608.py'\u001b[0m                      \u001b[31m│\u001b[0m\n",
       "\u001b[31m│\u001b[0m                                                                                                  \u001b[31m│\u001b[0m\n",
       "\u001b[31m│\u001b[0m \u001b[2;33m/home/jlortiz/data/anaconda3/envs/py310/lib/python3.10/site-packages/datasets/\u001b[0m\u001b[1;33marrow_dataset.py\u001b[0m:\u001b[94m8\u001b[0m \u001b[31m│\u001b[0m\n",
       "\u001b[31m│\u001b[0m \u001b[94m11\u001b[0m in \u001b[92mfrom_pandas\u001b[0m                                                                                \u001b[31m│\u001b[0m\n",
       "\u001b[31m│\u001b[0m                                                                                                  \u001b[31m│\u001b[0m\n",
       "\u001b[31m│\u001b[0m   \u001b[2m 808 \u001b[0m\u001b[2m│   │   \u001b[0m\u001b[94mif\u001b[0m features \u001b[95mis\u001b[0m \u001b[95mnot\u001b[0m \u001b[94mNone\u001b[0m:                                                          \u001b[31m│\u001b[0m\n",
       "\u001b[31m│\u001b[0m   \u001b[2m 809 \u001b[0m\u001b[2m│   │   │   \u001b[0m\u001b[2m# more expensive cast than InMemoryTable.from_pandas(..., schema=features.ar\u001b[0m  \u001b[31m│\u001b[0m\n",
       "\u001b[31m│\u001b[0m   \u001b[2m 810 \u001b[0m\u001b[2m│   │   │   \u001b[0m\u001b[2m# needed to support the str to Audio conversion for instance\u001b[0m                  \u001b[31m│\u001b[0m\n",
       "\u001b[31m│\u001b[0m \u001b[31m❱ \u001b[0m 811 \u001b[2m│   │   │   \u001b[0mtable = table.cast(features.arrow_schema)                                     \u001b[31m│\u001b[0m\n",
       "\u001b[31m│\u001b[0m   \u001b[2m 812 \u001b[0m\u001b[2m│   │   \u001b[0m\u001b[94mreturn\u001b[0m \u001b[96mcls\u001b[0m(table, info=info, split=split)                                         \u001b[31m│\u001b[0m\n",
       "\u001b[31m│\u001b[0m   \u001b[2m 813 \u001b[0m\u001b[2m│   \u001b[0m                                                                                      \u001b[31m│\u001b[0m\n",
       "\u001b[31m│\u001b[0m   \u001b[2m 814 \u001b[0m\u001b[2m│   \u001b[0m\u001b[1;95m@classmethod\u001b[0m                                                                          \u001b[31m│\u001b[0m\n",
       "\u001b[31m│\u001b[0m                                                                                                  \u001b[31m│\u001b[0m\n",
       "\u001b[31m│\u001b[0m \u001b[2;33m/home/jlortiz/data/anaconda3/envs/py310/lib/python3.10/site-packages/datasets/\u001b[0m\u001b[1;33mtable.py\u001b[0m:\u001b[94m907\u001b[0m in    \u001b[31m│\u001b[0m\n",
       "\u001b[31m│\u001b[0m \u001b[92mcast\u001b[0m                                                                                             \u001b[31m│\u001b[0m\n",
       "\u001b[31m│\u001b[0m                                                                                                  \u001b[31m│\u001b[0m\n",
       "\u001b[31m│\u001b[0m   \u001b[2m 904 \u001b[0m\u001b[2;33m│   │   \u001b[0m\u001b[33mReturns:\u001b[0m                                                                          \u001b[31m│\u001b[0m\n",
       "\u001b[31m│\u001b[0m   \u001b[2m 905 \u001b[0m\u001b[2;33m│   │   │   \u001b[0m\u001b[33m`datasets.table.Table`\u001b[0m                                                        \u001b[31m│\u001b[0m\n",
       "\u001b[31m│\u001b[0m   \u001b[2m 906 \u001b[0m\u001b[2;33m│   │   \u001b[0m\u001b[33m\"\"\"\u001b[0m                                                                               \u001b[31m│\u001b[0m\n",
       "\u001b[31m│\u001b[0m \u001b[31m❱ \u001b[0m 907 \u001b[2m│   │   \u001b[0m\u001b[94mreturn\u001b[0m InMemoryTable(table_cast(\u001b[96mself\u001b[0m.table, *args, **kwargs))                     \u001b[31m│\u001b[0m\n",
       "\u001b[31m│\u001b[0m   \u001b[2m 908 \u001b[0m\u001b[2m│   \u001b[0m                                                                                      \u001b[31m│\u001b[0m\n",
       "\u001b[31m│\u001b[0m   \u001b[2m 909 \u001b[0m\u001b[2m│   \u001b[0m\u001b[94mdef\u001b[0m \u001b[92mreplace_schema_metadata\u001b[0m(\u001b[96mself\u001b[0m, *args, **kwargs):                                   \u001b[31m│\u001b[0m\n",
       "\u001b[31m│\u001b[0m   \u001b[2m 910 \u001b[0m\u001b[2m│   │   \u001b[0m\u001b[33m\"\"\"\u001b[0m                                                                               \u001b[31m│\u001b[0m\n",
       "\u001b[31m│\u001b[0m                                                                                                  \u001b[31m│\u001b[0m\n",
       "\u001b[31m│\u001b[0m \u001b[2;33m/home/jlortiz/data/anaconda3/envs/py310/lib/python3.10/site-packages/datasets/\u001b[0m\u001b[1;33mtable.py\u001b[0m:\u001b[94m2312\u001b[0m in   \u001b[31m│\u001b[0m\n",
       "\u001b[31m│\u001b[0m \u001b[92mtable_cast\u001b[0m                                                                                       \u001b[31m│\u001b[0m\n",
       "\u001b[31m│\u001b[0m                                                                                                  \u001b[31m│\u001b[0m\n",
       "\u001b[31m│\u001b[0m   \u001b[2m2309 \u001b[0m\u001b[2;33m│   │   \u001b[0m\u001b[33mtable (`pyarrow.Table`): the casted table\u001b[0m                                         \u001b[31m│\u001b[0m\n",
       "\u001b[31m│\u001b[0m   \u001b[2m2310 \u001b[0m\u001b[2;33m│   \u001b[0m\u001b[33m\"\"\"\u001b[0m                                                                                   \u001b[31m│\u001b[0m\n",
       "\u001b[31m│\u001b[0m   \u001b[2m2311 \u001b[0m\u001b[2m│   \u001b[0m\u001b[94mif\u001b[0m table.schema != schema:                                                            \u001b[31m│\u001b[0m\n",
       "\u001b[31m│\u001b[0m \u001b[31m❱ \u001b[0m2312 \u001b[2m│   │   \u001b[0m\u001b[94mreturn\u001b[0m cast_table_to_schema(table, schema)                                        \u001b[31m│\u001b[0m\n",
       "\u001b[31m│\u001b[0m   \u001b[2m2313 \u001b[0m\u001b[2m│   \u001b[0m\u001b[94melif\u001b[0m table.schema.metadata != schema.metadata:                                        \u001b[31m│\u001b[0m\n",
       "\u001b[31m│\u001b[0m   \u001b[2m2314 \u001b[0m\u001b[2m│   │   \u001b[0m\u001b[94mreturn\u001b[0m table.replace_schema_metadata(schema.metadata)                             \u001b[31m│\u001b[0m\n",
       "\u001b[31m│\u001b[0m   \u001b[2m2315 \u001b[0m\u001b[2m│   \u001b[0m\u001b[94melse\u001b[0m:                                                                                 \u001b[31m│\u001b[0m\n",
       "\u001b[31m│\u001b[0m                                                                                                  \u001b[31m│\u001b[0m\n",
       "\u001b[31m│\u001b[0m \u001b[2;33m/home/jlortiz/data/anaconda3/envs/py310/lib/python3.10/site-packages/datasets/\u001b[0m\u001b[1;33mtable.py\u001b[0m:\u001b[94m2270\u001b[0m in   \u001b[31m│\u001b[0m\n",
       "\u001b[31m│\u001b[0m \u001b[92mcast_table_to_schema\u001b[0m                                                                             \u001b[31m│\u001b[0m\n",
       "\u001b[31m│\u001b[0m                                                                                                  \u001b[31m│\u001b[0m\n",
       "\u001b[31m│\u001b[0m   \u001b[2m2267 \u001b[0m\u001b[2m│   \u001b[0m                                                                                      \u001b[31m│\u001b[0m\n",
       "\u001b[31m│\u001b[0m   \u001b[2m2268 \u001b[0m\u001b[2m│   \u001b[0mfeatures = Features.from_arrow_schema(schema)                                         \u001b[31m│\u001b[0m\n",
       "\u001b[31m│\u001b[0m   \u001b[2m2269 \u001b[0m\u001b[2m│   \u001b[0m\u001b[94mif\u001b[0m \u001b[96msorted\u001b[0m(table.column_names) != \u001b[96msorted\u001b[0m(features):                                    \u001b[31m│\u001b[0m\n",
       "\u001b[31m│\u001b[0m \u001b[31m❱ \u001b[0m2270 \u001b[2m│   │   \u001b[0m\u001b[94mraise\u001b[0m \u001b[96mValueError\u001b[0m(\u001b[33mf\u001b[0m\u001b[33m\"\u001b[0m\u001b[33mCouldn\u001b[0m\u001b[33m'\u001b[0m\u001b[33mt cast\u001b[0m\u001b[33m\\n\u001b[0m\u001b[33m{\u001b[0mtable.schema\u001b[33m}\u001b[0m\u001b[33m\\n\u001b[0m\u001b[33mto\u001b[0m\u001b[33m\\n\u001b[0m\u001b[33m{\u001b[0mfeatures\u001b[33m}\u001b[0m\u001b[33m\\n\u001b[0m\u001b[33mbecause column\u001b[0m  \u001b[31m│\u001b[0m\n",
       "\u001b[31m│\u001b[0m   \u001b[2m2271 \u001b[0m\u001b[2m│   \u001b[0marrays = [cast_array_to_feature(table[name], feature) \u001b[94mfor\u001b[0m name, feature \u001b[95min\u001b[0m features.  \u001b[31m│\u001b[0m\n",
       "\u001b[31m│\u001b[0m   \u001b[2m2272 \u001b[0m\u001b[2m│   \u001b[0m\u001b[94mreturn\u001b[0m pa.Table.from_arrays(arrays, schema=schema)                                    \u001b[31m│\u001b[0m\n",
       "\u001b[31m│\u001b[0m   \u001b[2m2273 \u001b[0m                                                                                          \u001b[31m│\u001b[0m\n",
       "\u001b[31m╰──────────────────────────────────────────────────────────────────────────────────────────────────╯\u001b[0m\n",
       "\u001b[1;91mValueError: \u001b[0mCouldn't cast\n",
       "id: int64\n",
       "tokens: list\u001b[1m<\u001b[0m\u001b[1;95mitem:\u001b[0m\u001b[39m string>\u001b[0m\n",
       "\u001b[39m  child \u001b[0m\u001b[1;36m0\u001b[0m\u001b[39m, item: string\u001b[0m\n",
       "\u001b[39mng_tags: list<item: string\u001b[0m\u001b[1m>\u001b[0m\n",
       "  child \u001b[1;36m0\u001b[0m, item: string\n",
       "-- schema metadata --\n",
       "pandas: \u001b[32m'\u001b[0m\u001b[32m{\u001b[0m\u001b[32m\"index_columns\": \u001b[0m\u001b[32m[\u001b[0m\u001b[32m{\u001b[0m\u001b[32m\"kind\": \"range\", \"name\": null, \"start\": 0, \"'\u001b[0m + \u001b[1;36m601\u001b[0m\n",
       "to\n",
       "\u001b[1m{\u001b[0m\u001b[32m'ng_tags'\u001b[0m: \u001b[1;35mSequence\u001b[0m\u001b[1m(\u001b[0m\u001b[33mfeature\u001b[0m=\u001b[1;35mClassLabel\u001b[0m\u001b[1m(\u001b[0m\u001b[33mnames\u001b[0m=\u001b[1m[\u001b[0m\u001b[32m'B-NG'\u001b[0m, \u001b[32m'I-NG'\u001b[0m, \u001b[32m'O'\u001b[0m\u001b[1m]\u001b[0m, \u001b[33mid\u001b[0m=\u001b[3;35mNone\u001b[0m\u001b[1m)\u001b[0m, \u001b[33mlength\u001b[0m=\u001b[1;36m-1\u001b[0m, \u001b[33mid\u001b[0m=\u001b[3;35mNone\u001b[0m\u001b[1m)\u001b[0m\u001b[1m}\u001b[0m\n",
       "because column names don't match\n"
      ]
     },
     "metadata": {},
     "output_type": "display_data"
    }
   ],
   "source": [
    "from datasets import Dataset, Features, ClassLabel, Sequence\n",
    "\n",
    "features = Features({\"ng_tags\": Sequence(ClassLabel(num_classes=3, names=['B-NG', 'I-NG', 'O']))})\n",
    "\n",
    "#hf_dataset = Dataset.from_list(data, features=features)\n",
    "\n",
    "hf_dataset = Dataset.from_pandas(data, features=features)\n",
    "\n",
    "hf_dataset.features"
   ]
  },
  {
   "cell_type": "code",
   "execution_count": null,
   "metadata": {},
   "outputs": [],
   "source": [
    "from datasets import Dataset, Features, ClassLabel\n",
    "labels = [0, 0, 1]\n",
    "features = Features({\"label\": ClassLabel(names=[\"negative\", \"positive\"])})\n",
    "ds = Dataset.from_dict({\"label\": labels}, features=features) \n",
    "ds = ds.with_format(\"tf\")  \n",
    "ds[:3]"
   ]
  },
  {
   "cell_type": "code",
   "execution_count": null,
   "metadata": {},
   "outputs": [
    {
     "data": {
      "text/plain": [
       "DatasetDict({\n",
       "    train: Dataset({\n",
       "        features: ['id', 'tokens', 'ng_tags'],\n",
       "        num_rows: 2090\n",
       "    })\n",
       "    validation: Dataset({\n",
       "        features: ['id', 'tokens', 'ng_tags'],\n",
       "        num_rows: 523\n",
       "    })\n",
       "})"
      ]
     },
     "execution_count": 5,
     "metadata": {},
     "output_type": "execute_result"
    }
   ],
   "source": [
    "hf_dataset = hf_dataset.train_test_split(test_size=0.2, shuffle=True, seed=13)\n",
    "# Rename datasets[\"test\"] to datasets[\"validation\"]\n",
    "hf_dataset[\"validation\"] = hf_dataset[\"test\"]\n",
    "del hf_dataset[\"test\"]\n",
    "hf_dataset"
   ]
  },
  {
   "cell_type": "code",
   "execution_count": null,
   "metadata": {},
   "outputs": [
    {
     "data": {
      "text/html": [
       "<pre style=\"white-space:pre;overflow-x:auto;line-height:normal;font-family:Menlo,'DejaVu Sans Mono',consolas,'Courier New',monospace\"><span style=\"color: #7fbfbf; text-decoration-color: #7fbfbf\">[05/31/23 14:00:41] </span><span style=\"color: #800000; text-decoration-color: #800000\">WARNING </span> WARNING:datasets.dataset_dict:Pushing split train to the Hub.     <a href=\"file:///home/jlortiz/data/anaconda3/envs/py310/lib/python3.10/site-packages/datasets/dataset_dict.py\" target=\"_blank\"><span style=\"color: #7f7f7f; text-decoration-color: #7f7f7f\">dataset_dict.py</span></a><span style=\"color: #7f7f7f; text-decoration-color: #7f7f7f\">:</span><a href=\"file:///home/jlortiz/data/anaconda3/envs/py310/lib/python3.10/site-packages/datasets/dataset_dict.py#1532\" target=\"_blank\"><span style=\"color: #7f7f7f; text-decoration-color: #7f7f7f\">1532</span></a>\n",
       "</pre>\n"
      ],
      "text/plain": [
       "\u001b[2;36m[05/31/23 14:00:41]\u001b[0m\u001b[2;36m \u001b[0m\u001b[31mWARNING \u001b[0m WARNING:datasets.dataset_dict:Pushing split train to the Hub.     \u001b]8;id=291077;file:///home/jlortiz/data/anaconda3/envs/py310/lib/python3.10/site-packages/datasets/dataset_dict.py\u001b\\\u001b[2mdataset_dict.py\u001b[0m\u001b]8;;\u001b\\\u001b[2m:\u001b[0m\u001b]8;id=44341;file:///home/jlortiz/data/anaconda3/envs/py310/lib/python3.10/site-packages/datasets/dataset_dict.py#1532\u001b\\\u001b[2m1532\u001b[0m\u001b]8;;\u001b\\\n"
      ]
     },
     "metadata": {},
     "output_type": "display_data"
    },
    {
     "data": {
      "application/vnd.jupyter.widget-view+json": {
       "model_id": "8e55cd0463394e57b09b3bac7af781d7",
       "version_major": 2,
       "version_minor": 0
      },
      "text/plain": [
       "Pushing dataset shards to the dataset hub:   0%|          | 0/1 [00:00<?, ?it/s]"
      ]
     },
     "metadata": {},
     "output_type": "display_data"
    },
    {
     "data": {
      "application/vnd.jupyter.widget-view+json": {
       "model_id": "36d24e97a6a74abcad39ddd7b97846e6",
       "version_major": 2,
       "version_minor": 0
      },
      "text/plain": [
       "Creating parquet from Arrow format:   0%|          | 0/3 [00:00<?, ?ba/s]"
      ]
     },
     "metadata": {},
     "output_type": "display_data"
    },
    {
     "data": {
      "application/vnd.jupyter.widget-view+json": {
       "model_id": "7540162faeaf4c58931e58bce83bc460",
       "version_major": 2,
       "version_minor": 0
      },
      "text/plain": [
       "Upload 1 LFS files:   0%|          | 0/1 [00:00<?, ?it/s]"
      ]
     },
     "metadata": {},
     "output_type": "display_data"
    },
    {
     "data": {
      "text/html": [
       "<pre style=\"white-space:pre;overflow-x:auto;line-height:normal;font-family:Menlo,'DejaVu Sans Mono',consolas,'Courier New',monospace\"><span style=\"color: #7fbfbf; text-decoration-color: #7fbfbf\">[05/31/23 14:00:45] </span><span style=\"color: #800000; text-decoration-color: #800000\">WARNING </span> WARNING:datasets.dataset_dict:Pushing split validation to the     <a href=\"file:///home/jlortiz/data/anaconda3/envs/py310/lib/python3.10/site-packages/datasets/dataset_dict.py\" target=\"_blank\"><span style=\"color: #7f7f7f; text-decoration-color: #7f7f7f\">dataset_dict.py</span></a><span style=\"color: #7f7f7f; text-decoration-color: #7f7f7f\">:</span><a href=\"file:///home/jlortiz/data/anaconda3/envs/py310/lib/python3.10/site-packages/datasets/dataset_dict.py#1532\" target=\"_blank\"><span style=\"color: #7f7f7f; text-decoration-color: #7f7f7f\">1532</span></a>\n",
       "<span style=\"color: #7fbfbf; text-decoration-color: #7fbfbf\">                    </span>         Hub.                                                              <span style=\"color: #7f7f7f; text-decoration-color: #7f7f7f\">                    </span>\n",
       "</pre>\n"
      ],
      "text/plain": [
       "\u001b[2;36m[05/31/23 14:00:45]\u001b[0m\u001b[2;36m \u001b[0m\u001b[31mWARNING \u001b[0m WARNING:datasets.dataset_dict:Pushing split validation to the     \u001b]8;id=701555;file:///home/jlortiz/data/anaconda3/envs/py310/lib/python3.10/site-packages/datasets/dataset_dict.py\u001b\\\u001b[2mdataset_dict.py\u001b[0m\u001b]8;;\u001b\\\u001b[2m:\u001b[0m\u001b]8;id=60185;file:///home/jlortiz/data/anaconda3/envs/py310/lib/python3.10/site-packages/datasets/dataset_dict.py#1532\u001b\\\u001b[2m1532\u001b[0m\u001b]8;;\u001b\\\n",
       "\u001b[2;36m                    \u001b[0m         Hub.                                                              \u001b[2m                    \u001b[0m\n"
      ]
     },
     "metadata": {},
     "output_type": "display_data"
    },
    {
     "data": {
      "application/vnd.jupyter.widget-view+json": {
       "model_id": "d75a0593762d4a89bf9760a0c861e807",
       "version_major": 2,
       "version_minor": 0
      },
      "text/plain": [
       "Pushing dataset shards to the dataset hub:   0%|          | 0/1 [00:00<?, ?it/s]"
      ]
     },
     "metadata": {},
     "output_type": "display_data"
    },
    {
     "data": {
      "application/vnd.jupyter.widget-view+json": {
       "model_id": "5fdf2197ee7e4f09ac52a0ed36a60712",
       "version_major": 2,
       "version_minor": 0
      },
      "text/plain": [
       "Creating parquet from Arrow format:   0%|          | 0/1 [00:00<?, ?ba/s]"
      ]
     },
     "metadata": {},
     "output_type": "display_data"
    },
    {
     "data": {
      "application/vnd.jupyter.widget-view+json": {
       "model_id": "989822474e0c4523845012ebe57c2e31",
       "version_major": 2,
       "version_minor": 0
      },
      "text/plain": [
       "Upload 1 LFS files:   0%|          | 0/1 [00:00<?, ?it/s]"
      ]
     },
     "metadata": {},
     "output_type": "display_data"
    }
   ],
   "source": [
    "hf_dataset.push_to_hub(\"spanish_nominal_groups_conll2003\")"
   ]
  },
  {
   "cell_type": "code",
   "execution_count": null,
   "metadata": {},
   "outputs": [
    {
     "data": {
      "text/plain": [
       "DatasetDict({\n",
       "    train: Dataset({\n",
       "        features: ['id', 'tokens', 'ng_tags'],\n",
       "        num_rows: 2090\n",
       "    })\n",
       "    validation: Dataset({\n",
       "        features: ['id', 'tokens', 'ng_tags'],\n",
       "        num_rows: 523\n",
       "    })\n",
       "})"
      ]
     },
     "execution_count": 7,
     "metadata": {},
     "output_type": "execute_result"
    }
   ],
   "source": [
    "hf_dataset"
   ]
  }
 ],
 "metadata": {
  "kernelspec": {
   "display_name": "py310",
   "language": "python",
   "name": "python3"
  },
  "language_info": {
   "codemirror_mode": {
    "name": "ipython",
    "version": 3
   },
   "file_extension": ".py",
   "mimetype": "text/x-python",
   "name": "python",
   "nbconvert_exporter": "python",
   "pygments_lexer": "ipython3",
   "version": "3.10.8"
  },
  "orig_nbformat": 4
 },
 "nbformat": 4,
 "nbformat_minor": 2
}
